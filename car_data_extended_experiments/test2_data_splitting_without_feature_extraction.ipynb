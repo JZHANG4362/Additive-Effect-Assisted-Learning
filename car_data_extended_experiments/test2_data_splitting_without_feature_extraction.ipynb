{
 "cells": [
  {
   "cell_type": "code",
   "execution_count": 27,
   "metadata": {},
   "outputs": [],
   "source": [
    "import pandas as pd\n",
    "import statsmodels.api as sm\n",
    "import numpy as np\n",
    "from scipy.spatial import distance\n",
    "from sklearn import metrics\n",
    "import math\n",
    "from sklearn.linear_model import LogisticRegression\n",
    "from sklearn.model_selection import StratifiedKFold\n",
    "from sklearn.preprocessing import StandardScaler\n",
    "from sklearn.metrics import log_loss"
   ]
  },
  {
   "cell_type": "code",
   "execution_count": 29,
   "metadata": {},
   "outputs": [
    {
     "name": "stdout",
     "output_type": "stream",
     "text": [
      "(2965, 150529)\n",
      "(2965, 150529)\n",
      "False\n"
     ]
    }
   ],
   "source": [
    "reportAUC = True\n",
    "kNum = 5\n",
    "\n",
    "# read the data of angels '1' and '2', where 1 - front, 2 - side\n",
    "df1Train = pd.read_csv('TrainSpeed_1without_feature_extraction.csv', header=None)\n",
    "df1Val = pd.read_csv('ValSpeed_1without_feature_extraction.csv', header=None)\n",
    "\n",
    "df1 = pd.concat([df1Train, df1Val], ignore_index=True)\n",
    "print(df1.shape)\n",
    "\n",
    "df2Train = pd.read_csv('TrainSpeed_2without_feature_extraction.csv', header=None)\n",
    "df2Val = pd.read_csv('ValSpeed_2without_feature_extraction.csv', header=None)\n",
    "\n",
    "df2 = pd.concat([df2Train, df2Val], ignore_index=True)\n",
    "print(df2.shape)\n",
    "\n",
    "# df3Train = pd.read_csv('TrainSpeed_3.csv', header=None)\n",
    "# df3Val = pd.read_csv('ValSpeed_3.csv', header=None)\n",
    "\n",
    "# df3 = df1Train.append(df3Val)\n",
    "# print(df3.shape)\n",
    "\n",
    "# check whether the responses match\n",
    "print(pd.DataFrame.equals(df1[df1.columns[0]], df2[df2.columns[0]]))\n",
    "# print(pd.DataFrame.equals(df1[df1.columns[0]], df3[df3.columns[0]]))\n"
   ]
  },
  {
   "cell_type": "code",
   "execution_count": 31,
   "metadata": {},
   "outputs": [],
   "source": [
    "# extract the response data\n",
    "Y_tmp = df1.iloc[:, -1].to_numpy()\n",
    "\n",
    "# predictors data from A: side photo of the cars\n",
    "XA_tmp = df2.iloc[:, :-1].to_numpy()\n",
    "# predictors data from B: front photo of the cars\n",
    "XB_tmp = df1.iloc[:, :-1].to_numpy()\n",
    "np.random.seed(10)\n",
    "\n",
    "# randomly split the data into training and validation\n",
    "shuffleInd = np.arange(Y_tmp.shape[0])\n",
    "np.random.shuffle(shuffleInd)\n",
    "\n",
    "# size of the training set and validation set\n",
    "n1= round(shuffleInd.shape[0]/4)\n",
    "\n",
    "Y = Y_tmp[shuffleInd[:(3*n1)]]\n",
    "YTest = Y_tmp[shuffleInd[(3*n1):]]\n",
    "\n",
    "XA = XA_tmp[shuffleInd[:(3*n1)],:]\n",
    "XB = XB_tmp[shuffleInd[:(3*n1)],:]\n",
    "\n",
    "XATest = XA_tmp[shuffleInd[(3*n1):],:]\n",
    "XBTest = XB_tmp[shuffleInd[(3*n1):],:]\n",
    "\n"
   ]
  },
  {
   "cell_type": "code",
   "execution_count": null,
   "metadata": {},
   "outputs": [],
   "source": [
    "# # add the intercept\n",
    "# XEvalintercept = sm.add_constant(XEval)\n",
    "# # add intercept terms that consist of 1 to the predictor datasets\n",
    "# # X matrix with intercept\n",
    "# Xintercept = sm.add_constant(X)\n",
    "\n",
    "# # XA matrix with intercept\n",
    "# XAintercept = sm.add_constant(XA)\n",
    "\n",
    "# # XB matrix with intercept\n",
    "# XBintercept = sm.add_constant(XB)"
   ]
  },
  {
   "cell_type": "code",
   "execution_count": 35,
   "metadata": {},
   "outputs": [],
   "source": [
    "import pickle\n",
    "data = {\"Y\": Y,  \"YTest\": YTest, \"XA\": XA , \"XB\": XB, \"XATest\":XATest, \"XBTest\": XBTest}\n",
    "\n",
    "pickle.dump(data, open(\"data_splitted_without_feature_extraction_dic.p\", \"wb\"))"
   ]
  }
 ],
 "metadata": {
  "kernelspec": {
   "display_name": "NEU1",
   "language": "python",
   "name": "python3"
  },
  "language_info": {
   "codemirror_mode": {
    "name": "ipython",
    "version": 3
   },
   "file_extension": ".py",
   "mimetype": "text/x-python",
   "name": "python",
   "nbconvert_exporter": "python",
   "pygments_lexer": "ipython3",
   "version": "3.12.2"
  },
  "orig_nbformat": 4,
  "vscode": {
   "interpreter": {
    "hash": "fe88e7b441143892554f327074c8bcade18da71d893ccd3a35749aabccc17428"
   }
  }
 },
 "nbformat": 4,
 "nbformat_minor": 2
}
