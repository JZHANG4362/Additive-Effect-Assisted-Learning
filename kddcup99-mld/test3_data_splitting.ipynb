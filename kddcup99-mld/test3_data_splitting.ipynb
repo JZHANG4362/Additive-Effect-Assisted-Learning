{
 "cells": [
  {
   "cell_type": "code",
   "execution_count": 2,
   "metadata": {},
   "outputs": [],
   "source": [
    "import pandas as pd\n",
    "import statsmodels.api as sm\n",
    "import numpy as np\n",
    "from scipy.spatial import distance\n",
    "from sklearn import metrics\n",
    "import math\n",
    "import pickle\n",
    "#=============================read data=====================================\n",
    "\n",
    "fname = \"data_preprocessed_dic.p\"\n",
    "infile = open(fname, 'rb')\n",
    "new_dict = pickle.load(infile)\n",
    "infile.close()\n",
    "\n",
    "\n",
    "\n",
    "Y_tmp = new_dict['Y_tmp']\n",
    "\n",
    "\n",
    "\n",
    "XA_tmp = new_dict['XA_tmp']\n",
    "XB_tmp = new_dict['XB_tmp']\n",
    "\n",
    "\n",
    "reportAUC = True\n",
    "kNum = 5\n",
    "\n",
    "\n",
    "np.random.seed(10)\n",
    "\n",
    "\n",
    "#store the evaluation results from multiple replications\n",
    "if reportAUC:\n",
    "    AUC_array = np.empty((0, (kNum+1)))\n",
    "    AUC_oracle_array = np.empty((0, (1)))\n",
    "\n",
    "ll_oracle_array = np.empty((0, (1)))  \n",
    "EuDis_array = np.empty((0, (kNum+1)))\n",
    "ll_array = np.empty((0, (kNum+1)))   "
   ]
  },
  {
   "cell_type": "code",
   "execution_count": 3,
   "metadata": {},
   "outputs": [],
   "source": [
    "# randomly split the data into training and validation\n",
    "shuffleInd = np.arange(Y_tmp.shape[0])\n",
    "np.random.shuffle(shuffleInd)\n",
    "\n",
    "# size of the training set and validation set\n",
    "n1= round(shuffleInd.shape[0]/4)\n",
    "\n",
    "YTrain = Y_tmp[shuffleInd[:n1]]\n",
    "YVal = Y_tmp[shuffleInd[n1:(2*n1)]]\n",
    "YTest = Y_tmp[shuffleInd[(2*n1):]]\n",
    "\n",
    "XATrain = XA_tmp[shuffleInd[:n1],:]\n",
    "XBTrain = XB_tmp[shuffleInd[:n1],:]\n",
    "\n",
    "XAVal = XA_tmp[shuffleInd[n1:(2*n1)],:]\n",
    "XBVal = XB_tmp[shuffleInd[n1:(2*n1)],:]\n",
    "\n",
    "XATest = XA_tmp[shuffleInd[(2*n1):],:]\n",
    "XBTest = XB_tmp[shuffleInd[(2*n1):],:]\n",
    "\n",
    "\n",
    "\n",
    "# # add the intercept\n",
    "# XEvalintercept = sm.add_constant(XEval)\n",
    "# # add intercept terms that consist of 1 to the predictor datasets\n",
    "# # X matrix with intercept\n",
    "# Xintercept = sm.add_constant(X)\n",
    "\n",
    "# # XA matrix with intercept\n",
    "# XAintercept = sm.add_constant(XA)\n",
    "\n",
    "# # XB matrix with intercept\n",
    "# XBintercept = sm.add_constant(XB)"
   ]
  },
  {
   "cell_type": "code",
   "execution_count": 4,
   "metadata": {},
   "outputs": [],
   "source": [
    "import pickle\n",
    "data = {\"YTrain\": YTrain, \"YVal\": YVal, \"YTest\": YTest, \"XATrain\": XATrain , \"XBTrain\": XBTrain, \"XAVal\": XAVal, \"XBVal\":XBVal, \"XATest\":XATest, \"XBTest\": XBTest}\n",
    "\n",
    "pickle.dump(data, open(\"data_splitted_dic.p\", \"wb\"))"
   ]
  }
 ],
 "metadata": {
  "kernelspec": {
   "display_name": "NEU1",
   "language": "python",
   "name": "python3"
  },
  "language_info": {
   "codemirror_mode": {
    "name": "ipython",
    "version": 3
   },
   "file_extension": ".py",
   "mimetype": "text/x-python",
   "name": "python",
   "nbconvert_exporter": "python",
   "pygments_lexer": "ipython3",
   "version": "3.11.0"
  },
  "orig_nbformat": 4,
  "vscode": {
   "interpreter": {
    "hash": "fe88e7b441143892554f327074c8bcade18da71d893ccd3a35749aabccc17428"
   }
  }
 },
 "nbformat": 4,
 "nbformat_minor": 2
}
