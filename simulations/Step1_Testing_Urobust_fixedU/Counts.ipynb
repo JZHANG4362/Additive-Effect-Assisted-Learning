{
 "cells": [
  {
   "cell_type": "code",
   "execution_count": 76,
   "metadata": {},
   "outputs": [],
   "source": [
    "# Plot H0 Q-Q plots\n",
    "\n",
    "import pickle\n",
    "import pylab \n",
    "import scipy.stats as stats\n",
    "import matplotlib.pyplot as plt\n",
    "import numpy as np"
   ]
  },
  {
   "cell_type": "code",
   "execution_count": 77,
   "metadata": {},
   "outputs": [],
   "source": [
    "def PlotH0(Model, Index, n, Lapscale, sig, Xdist, testtype, fixedU, randomBeta, Uind):\n",
    "    fname = Model + \"_Setting_\" + str(Index) + \"_n_\" + str(n) + \"_Lapscale_\" + str(Lapscale) + \"_sig_\" + str(sig) + \"_Xdist_\" + str(Xdist) + \"_testtype_\" + testtype + \"_fixedU_\" + str(fixedU) + \"_randomBeta_\" + str(randomBeta) + \"_Uind_\" + str(Uind)\n",
    "\n",
    "    infile = open( Model + \"_results/resultsH0/data/\" + fname + '_dic.p', 'rb')\n",
    "    new_dict = pickle.load(infile)\n",
    "    infile.close()\n",
    "    pV_array = (new_dict[\"pV\"])\n",
    "\n",
    "    if sig == 0:\n",
    "        rhoName = \"Independent\"\n",
    "    else:\n",
    "        rhoName = 'AR(1) ' + r'$\\rho=' +str(sig) + '$'\n",
    "    SettingName = 'Setting ' + str(Index) + ', n=' + str(n) +', ' + rhoName + ', ' + r'$lap(' +str(Lapscale) + ')$' + ', ' + r'$U_' +str((Uind+1)) + '$'\n",
    "\n",
    "\n",
    "    fig = plt.figure()\n",
    "    fig.suptitle(SettingName, fontsize=20)\n",
    "    for t in range(1, 6):\n",
    "        ax = fig.add_subplot(int('15' + str(t)))\n",
    "        res = stats.probplot(pV_array[:,(t-1)], dist=\"uniform\", plot=pylab)\n",
    "        ax.set_title('t=' + str(t), fontsize=18)\n",
    "        ax.set_ylabel('')\n",
    "        ax.set_xlabel('')\n",
    "    fig.set_size_inches(11.2, 3.2)   \n",
    "    fig.text(0.5,0.04, \"Theoretical Quantiles\", ha=\"center\", va=\"center\", fontsize=20)\n",
    "    fig.text(0.025,0.5, \"Sample Quantiles\", ha=\"center\", va=\"center\", rotation=90, fontsize=17)\n",
    "    fig.tight_layout(rect=[0.05, 0.07, 1, 0.95])\n",
    "    plt.savefig(Model + \"_results/Result_Figure/ResultsH0\" + fname +'.pdf')"
   ]
  },
  {
   "cell_type": "code",
   "execution_count": 78,
   "metadata": {},
   "outputs": [],
   "source": [
    "# Model = \"logistic\"\n",
    "# Index = 1\n",
    "# n = 300\n",
    "# Lapscale = 0\n",
    "Xdist = \"uniform\"\n",
    "# sig = 0\n",
    "testtype = \"Wald\"\n",
    "\n",
    "randomBeta = False"
   ]
  },
  {
   "cell_type": "code",
   "execution_count": 79,
   "metadata": {},
   "outputs": [],
   "source": [
    "Model = \"logistic\"\n",
    "Index = 1\n",
    "n = 2000\n",
    "Lapscale = 0.25\n",
    "sig = 0.1\n",
    "fixedU = \"\"\n",
    "\n",
    "# Number of fixed U matrices\n",
    "nU = 6\n",
    "\n",
    "# significance level\n",
    "alpha = 0.05\n",
    "\n",
    "hypothesis = \"H0\""
   ]
  },
  {
   "cell_type": "code",
   "execution_count": 80,
   "metadata": {},
   "outputs": [],
   "source": [
    "LapscaleList = [0, 0.1, 0.5]"
   ]
  },
  {
   "cell_type": "code",
   "execution_count": 83,
   "metadata": {},
   "outputs": [],
   "source": [
    "def GenCSV(LapscaleList, alpha, hypothesis, Model):\n",
    "    for LapscaleInd in range(len(LapscaleList)):\n",
    "        Lapscale = LapscaleList[LapscaleInd]\n",
    "        for Uind in range(nU):\n",
    "            if hypothesis == \"H0\":\n",
    "                randomBeta = False\n",
    "            elif hypothesis == \"H1\":\n",
    "                randomBeta = True\n",
    "            fname = Model + \"_Setting_\" + str(Index) + \"_n_\" + str(n) + \"_Lapscale_\" + str(Lapscale) + \"_sig_\" + str(sig) + \"_Xdist_\" + str(Xdist) + \"_testtype_\" + testtype + \"_fixedU_\" + str(fixedU) + \"_randomBeta_\" + str(randomBeta) + \"_Uind_\" + str(Uind)\n",
    "\n",
    "            infile = open( Model + \"_results/results\" + hypothesis + \"/data/\" + fname + '_dic.p', 'rb')\n",
    "            new_dict = pickle.load(infile)\n",
    "            infile.close()\n",
    "            pV_array = (new_dict[\"pV\"])\n",
    "\n",
    "            # append the rejection results\n",
    "            if Uind == 0:\n",
    "                #pV_array_reps = pV_array.reshape(-1, pV_array.shape[0], pV_array.shape[1])\n",
    "                pV_array_rej = (pV_array < alpha)*1\n",
    "            elif Uind > 0:\n",
    "                #pV_array_reps = np.concatenate([pV_array_reps,pV_array.reshape(-1, pV_array.shape[0], pV_array.shape[1])], axis=0)\n",
    "                pV_array_rej = pV_array_rej + (pV_array < alpha)*1\n",
    "\n",
    "        # calculate the number of matches\n",
    "        match_results = (pV_array_rej == 0) + (pV_array_rej == 6)\n",
    "\n",
    "        if LapscaleInd == 0:\n",
    "            match_counts = np.sum(match_results * 1, axis = 0).reshape(1,-1)\n",
    "        elif LapscaleInd> 0:\n",
    "            match_counts = np.concatenate((match_counts, np.sum(match_results * 1, axis = 0).reshape(1,-1)), axis = 0)\n",
    "        \n",
    "        match_counts.astype(int)\n",
    "        np.savetxt(Model + \"_\" + hypothesis + \".csv\", match_counts, delimiter=\",\")"
   ]
  },
  {
   "cell_type": "code",
   "execution_count": 84,
   "metadata": {},
   "outputs": [],
   "source": [
    "for Model in [\"logistic\", \"normal\", \"poisson\", \"logcosh\"]:\n",
    "    for hypothesis in [\"H0\", \"H1\"]:\n",
    "        GenCSV(LapscaleList, alpha, hypothesis, Model)"
   ]
  }
 ],
 "metadata": {
  "kernelspec": {
   "display_name": "NEU1",
   "language": "python",
   "name": "python3"
  },
  "language_info": {
   "codemirror_mode": {
    "name": "ipython",
    "version": 3
   },
   "file_extension": ".py",
   "mimetype": "text/x-python",
   "name": "python",
   "nbconvert_exporter": "python",
   "pygments_lexer": "ipython3",
   "version": "3.11.0"
  },
  "orig_nbformat": 4,
  "vscode": {
   "interpreter": {
    "hash": "fe88e7b441143892554f327074c8bcade18da71d893ccd3a35749aabccc17428"
   }
  }
 },
 "nbformat": 4,
 "nbformat_minor": 2
}
